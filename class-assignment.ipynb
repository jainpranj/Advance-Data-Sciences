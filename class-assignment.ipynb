{
 "cells": [
  {
   "cell_type": "code",
   "execution_count": 159,
   "metadata": {
    "collapsed": true
   },
   "outputs": [],
   "source": [
    "import numpy as np\n",
    "import matplotlib.pyplot as pp\n",
    "import pandas as pd\n",
    "import seaborn\n",
    "from scipy import stats"
   ]
  },
  {
   "cell_type": "code",
   "execution_count": 160,
   "metadata": {
    "collapsed": false
   },
   "outputs": [
    {
     "name": "stdout",
     "output_type": "stream",
     "text": [
      "[['No', 'GPA', 'Years of work experience', 'Latest salary (per year)', 'Highest GPA ', 'Lowest GPA', 'Coops/Internships (YN)', 'Number of contacts on Linkedin', 'Expected Salary after graduation\\n'], ['1', '3.5', '2.5', '45000', '3.5', '3.5', 'N', '250', '90000\\n'], ['3', '3.8', '1', '65000', '3.6', '3', 'Y', '400', '100000\\n'], ['4', '3.8', '2', '85000', '4', '3.6', 'Y', '500', '90000\\n'], ['5', '3.41', '1.5', '10000', '3.41', '3.33', 'N', '365', '100000\\n'], ['6', '3.33', '5', '70000', '3.67', '3', 'Y', '400', '100000\\n'], ['7', '3.52', '2.5', '27000', '3.58', '3.52', 'N', '230', '85000\\n'], ['8', '3.5', '2', '40000', '3.7', '3.3', 'N', '250', '90000\\n'], ['9', '3.5', '5', '75000', '3.53', '3.3', 'Y', '260', '100000\\n'], ['10', '3.6', '2.5', '65000', '3.9', '3.1', 'Y', '250', '110000\\n'], ['11', '3.2', '4', '62000', '3.8', '3', 'N', '525', '105000\\n'], ['12', '3.5', '2', '60000', '3.5', '3.5', 'N', '400', '85000\\n'], ['13', '3.67', '1.8', '60000', '4', '3', 'N', '920', '140000\\n'], ['14', '3.5', '2', '60000', '3.7', '3.3', 'y', '300', '90000\\n'], ['15', '3.47', '2.5', '70000', '3.64', '3.37', 'Y', '310', '95000\\n'], ['16', '3.06', '1.3', '40000', '3.64', '2.67', 'Y', '550', '120000\\n'], ['17', '3.27', '2', '60000', '4', '3', 'Y', '350', '100000\\n'], ['18', '3.53', '4', '50000', '4', '3.3', 'N', '600', '88000\\n'], ['19', '4', '4', '50000', '4', '4', 'Y', '500', '130000\\n'], ['20', '3.4', '1', '30000', '3.6', '3.1', 'N', '500', '80000\\n'], ['21', '3.54', '1', '40000', '4', '3.42', 'Y', '650', '95000\\n'], ['22', '3.5', '2', '75000', '4', '3', 'Y', '515', '80000\\n'], ['23', '3.5', '4', '50000', '3.8', '3.2', 'Y', '350', '110000\\n'], ['24', '3.4', '3', '50000', '3.8', '3.2', 'Y', '301', '90000\\n'], ['25', '3.93', '5', '', '', '', '', '', '\\n'], ['26', '3.3', '4', '65000', '4', '3.65', 'Y', '700', '100000\\n'], ['27', '3.9', '6', '90000', '4', '3.8', 'Y', '809', '120000\\n'], ['28', '3.17', '1', '50000', '3.3', '3', 'N', '258', '100000\\n'], ['29', '3.48', '3.5', '60000', '4', '3.33', 'Y', '350', '100000\\n'], ['30', '3.93', '4', '43000', '4', '3.28', 'Y', '900', '100000\\n'], ['31', '3.43', '4', '60000', '3.5', '3.3', 'Y', '220', '110000\\n'], ['32', '3.33', '5', '5000', '3.66', '3', 'Y', '183', '100000\\n'], ['33', '3.6', '1.5', '60000', '3.7', '3.4', 'Y', '340', '100000\\n'], ['34', '3.8', '3', '65000', '3.8', '3.5', 'Y', '800', '80000\\n'], ['35', '3.5', '3', '65000', '4', '3.6', 'Y', '400', '80000\\n'], ['36', '3.39', '2', '60000', '3.8', '3.2', 'Y', '500', '90000']]\n"
     ]
    }
   ],
   "source": [
    "gpalist=[]\n",
    "for line in open('ClassData.csv','r'):\n",
    "   field= line.split(',')\n",
    "   gpalist.append(field)\n",
    "print(gpalist)"
   ]
  },
  {
   "cell_type": "code",
   "execution_count": 161,
   "metadata": {
    "collapsed": false
   },
   "outputs": [
    {
     "data": {
      "text/plain": [
       "['45000',\n",
       " '65000',\n",
       " '85000',\n",
       " '10000',\n",
       " '70000',\n",
       " '27000',\n",
       " '40000',\n",
       " '75000',\n",
       " '65000',\n",
       " '62000',\n",
       " '60000',\n",
       " '60000',\n",
       " '60000',\n",
       " '70000',\n",
       " '40000',\n",
       " '60000',\n",
       " '50000',\n",
       " '50000',\n",
       " '30000',\n",
       " '40000',\n",
       " '75000',\n",
       " '50000',\n",
       " '50000',\n",
       " '',\n",
       " '65000',\n",
       " '90000',\n",
       " '50000',\n",
       " '60000',\n",
       " '43000',\n",
       " '60000',\n",
       " '5000',\n",
       " '60000',\n",
       " '65000',\n",
       " '65000',\n",
       " '60000']"
      ]
     },
     "execution_count": 161,
     "metadata": {},
     "output_type": "execute_result"
    }
   ],
   "source": [
    "gpalist=[]\n",
    "yearofexp=[]\n",
    "salary=[]\n",
    "with open('ClassData.csv','r') as f:\n",
    "    lines = f.readlines()[1:]\n",
    "    for line in lines:\n",
    "        field= line.split(',')\n",
    "        gpalist.append(field[1])\n",
    "        yearofexp.append(field[2])\n",
    "        salary.append(field[3])\n",
    "salary     \n",
    "#Salary=np.asarray(salary,dtype=np.float_)"
   ]
  },
  {
   "cell_type": "code",
   "execution_count": 162,
   "metadata": {
    "collapsed": false
   },
   "outputs": [
    {
     "name": "stdout",
     "output_type": "stream",
     "text": [
      "3.06\n",
      "4.0\n",
      "3.52\n",
      "3.5\n",
      "1.0\n",
      "6.0\n",
      "2.87\n",
      "2.5\n"
     ]
    }
   ],
   "source": [
    "GPA= np.asarray(gpalist,dtype=np.float_)\n",
    "WorkExp=np.asarray(yearofexp,dtype=np.float_)\n",
    "WorkExp\n",
    "\n",
    "\n",
    "print(round(np.min(GPA),2))\n",
    "print(round(np.max(GPA),2))\n",
    "print(round(np.mean(GPA),2))\n",
    "print(round(np.median(GPA),2))\n",
    "print(round(np.min(WorkExp),2))\n",
    "print(round(np.max(WorkExp),2))\n",
    "print(round(np.mean(WorkExp),2))\n",
    "print(round(np.median(WorkExp),2))"
   ]
  },
  {
   "cell_type": "code",
   "execution_count": 163,
   "metadata": {
    "collapsed": false
   },
   "outputs": [],
   "source": [
    "classData=np.genfromtxt('ClassData.csv',delimiter=',',dtype=None)"
   ]
  },
  {
   "cell_type": "code",
   "execution_count": 164,
   "metadata": {
    "collapsed": false
   },
   "outputs": [
    {
     "data": {
      "text/plain": [
       "array([[b'No', b'GPA', b'Years of work experience',\n",
       "        b'Latest salary (per year)', b'Highest GPA ', b'Lowest GPA',\n",
       "        b'Coops/Internships (YN)', b'Number of contacts on Linkedin',\n",
       "        b'Expected Salary after graduation'],\n",
       "       [b'1', b'3.5', b'2.5', b'45000', b'3.5', b'3.5', b'N', b'250',\n",
       "        b'90000'],\n",
       "       [b'3', b'3.8', b'1', b'65000', b'3.6', b'3', b'Y', b'400', b'100000'],\n",
       "       [b'4', b'3.8', b'2', b'85000', b'4', b'3.6', b'Y', b'500', b'90000'],\n",
       "       [b'5', b'3.41', b'1.5', b'10000', b'3.41', b'3.33', b'N', b'365',\n",
       "        b'100000'],\n",
       "       [b'6', b'3.33', b'5', b'70000', b'3.67', b'3', b'Y', b'400',\n",
       "        b'100000'],\n",
       "       [b'7', b'3.52', b'2.5', b'27000', b'3.58', b'3.52', b'N', b'230',\n",
       "        b'85000'],\n",
       "       [b'8', b'3.5', b'2', b'40000', b'3.7', b'3.3', b'N', b'250',\n",
       "        b'90000'],\n",
       "       [b'9', b'3.5', b'5', b'75000', b'3.53', b'3.3', b'Y', b'260',\n",
       "        b'100000'],\n",
       "       [b'10', b'3.6', b'2.5', b'65000', b'3.9', b'3.1', b'Y', b'250',\n",
       "        b'110000'],\n",
       "       [b'11', b'3.2', b'4', b'62000', b'3.8', b'3', b'N', b'525',\n",
       "        b'105000'],\n",
       "       [b'12', b'3.5', b'2', b'60000', b'3.5', b'3.5', b'N', b'400',\n",
       "        b'85000'],\n",
       "       [b'13', b'3.67', b'1.8', b'60000', b'4', b'3', b'N', b'920',\n",
       "        b'140000'],\n",
       "       [b'14', b'3.5', b'2', b'60000', b'3.7', b'3.3', b'y', b'300',\n",
       "        b'90000'],\n",
       "       [b'15', b'3.47', b'2.5', b'70000', b'3.64', b'3.37', b'Y', b'310',\n",
       "        b'95000'],\n",
       "       [b'16', b'3.06', b'1.3', b'40000', b'3.64', b'2.67', b'Y', b'550',\n",
       "        b'120000'],\n",
       "       [b'17', b'3.27', b'2', b'60000', b'4', b'3', b'Y', b'350', b'100000'],\n",
       "       [b'18', b'3.53', b'4', b'50000', b'4', b'3.3', b'N', b'600',\n",
       "        b'88000'],\n",
       "       [b'19', b'4', b'4', b'50000', b'4', b'4', b'Y', b'500', b'130000'],\n",
       "       [b'20', b'3.4', b'1', b'30000', b'3.6', b'3.1', b'N', b'500',\n",
       "        b'80000'],\n",
       "       [b'21', b'3.54', b'1', b'40000', b'4', b'3.42', b'Y', b'650',\n",
       "        b'95000'],\n",
       "       [b'22', b'3.5', b'2', b'75000', b'4', b'3', b'Y', b'515', b'80000'],\n",
       "       [b'23', b'3.5', b'4', b'50000', b'3.8', b'3.2', b'Y', b'350',\n",
       "        b'110000'],\n",
       "       [b'24', b'3.4', b'3', b'50000', b'3.8', b'3.2', b'Y', b'301',\n",
       "        b'90000'],\n",
       "       [b'25', b'3.93', b'5', b'', b'', b'', b'', b'', b''],\n",
       "       [b'26', b'3.3', b'4', b'65000', b'4', b'3.65', b'Y', b'700',\n",
       "        b'100000'],\n",
       "       [b'27', b'3.9', b'6', b'90000', b'4', b'3.8', b'Y', b'809',\n",
       "        b'120000'],\n",
       "       [b'28', b'3.17', b'1', b'50000', b'3.3', b'3', b'N', b'258',\n",
       "        b'100000'],\n",
       "       [b'29', b'3.48', b'3.5', b'60000', b'4', b'3.33', b'Y', b'350',\n",
       "        b'100000'],\n",
       "       [b'30', b'3.93', b'4', b'43000', b'4', b'3.28', b'Y', b'900',\n",
       "        b'100000'],\n",
       "       [b'31', b'3.43', b'4', b'60000', b'3.5', b'3.3', b'Y', b'220',\n",
       "        b'110000'],\n",
       "       [b'32', b'3.33', b'5', b'5000', b'3.66', b'3', b'Y', b'183',\n",
       "        b'100000'],\n",
       "       [b'33', b'3.6', b'1.5', b'60000', b'3.7', b'3.4', b'Y', b'340',\n",
       "        b'100000'],\n",
       "       [b'34', b'3.8', b'3', b'65000', b'3.8', b'3.5', b'Y', b'800',\n",
       "        b'80000'],\n",
       "       [b'35', b'3.5', b'3', b'65000', b'4', b'3.6', b'Y', b'400', b'80000'],\n",
       "       [b'36', b'3.39', b'2', b'60000', b'3.8', b'3.2', b'Y', b'500',\n",
       "        b'90000']], \n",
       "      dtype='|S32')"
      ]
     },
     "execution_count": 164,
     "metadata": {},
     "output_type": "execute_result"
    }
   ],
   "source": [
    "classData"
   ]
  },
  {
   "cell_type": "code",
   "execution_count": 165,
   "metadata": {
    "collapsed": false
   },
   "outputs": [],
   "source": [
    "classData=np.recfromcsv('ClassData.csv',dtype=None)"
   ]
  },
  {
   "cell_type": "code",
   "execution_count": 166,
   "metadata": {
    "collapsed": false
   },
   "outputs": [
    {
     "data": {
      "text/plain": [
       "rec.array([(1, 3.5, 2.5, 45000, 3.5, 3.5, b'N', 250, 90000),\n",
       " (3, 3.8, 1.0, 65000, 3.6, 3.0, b'Y', 400, 100000),\n",
       " (4, 3.8, 2.0, 85000, 4.0, 3.6, b'Y', 500, 90000),\n",
       " (5, 3.41, 1.5, 10000, 3.41, 3.33, b'N', 365, 100000),\n",
       " (6, 3.33, 5.0, 70000, 3.67, 3.0, b'Y', 400, 100000),\n",
       " (7, 3.52, 2.5, 27000, 3.58, 3.52, b'N', 230, 85000),\n",
       " (8, 3.5, 2.0, 40000, 3.7, 3.3, b'N', 250, 90000),\n",
       " (9, 3.5, 5.0, 75000, 3.53, 3.3, b'Y', 260, 100000),\n",
       " (10, 3.6, 2.5, 65000, 3.9, 3.1, b'Y', 250, 110000),\n",
       " (11, 3.2, 4.0, 62000, 3.8, 3.0, b'N', 525, 105000),\n",
       " (12, 3.5, 2.0, 60000, 3.5, 3.5, b'N', 400, 85000),\n",
       " (13, 3.67, 1.8, 60000, 4.0, 3.0, b'N', 920, 140000),\n",
       " (14, 3.5, 2.0, 60000, 3.7, 3.3, b'y', 300, 90000),\n",
       " (15, 3.47, 2.5, 70000, 3.64, 3.37, b'Y', 310, 95000),\n",
       " (16, 3.06, 1.3, 40000, 3.64, 2.67, b'Y', 550, 120000),\n",
       " (17, 3.27, 2.0, 60000, 4.0, 3.0, b'Y', 350, 100000),\n",
       " (18, 3.53, 4.0, 50000, 4.0, 3.3, b'N', 600, 88000),\n",
       " (19, 4.0, 4.0, 50000, 4.0, 4.0, b'Y', 500, 130000),\n",
       " (20, 3.4, 1.0, 30000, 3.6, 3.1, b'N', 500, 80000),\n",
       " (21, 3.54, 1.0, 40000, 4.0, 3.42, b'Y', 650, 95000),\n",
       " (22, 3.5, 2.0, 75000, 4.0, 3.0, b'Y', 515, 80000),\n",
       " (23, 3.5, 4.0, 50000, 3.8, 3.2, b'Y', 350, 110000),\n",
       " (24, 3.4, 3.0, 50000, 3.8, 3.2, b'Y', 301, 90000),\n",
       " (25, 3.93, 5.0, -1, nan, nan, b'', -1, -1),\n",
       " (26, 3.3, 4.0, 65000, 4.0, 3.65, b'Y', 700, 100000),\n",
       " (27, 3.9, 6.0, 90000, 4.0, 3.8, b'Y', 809, 120000),\n",
       " (28, 3.17, 1.0, 50000, 3.3, 3.0, b'N', 258, 100000),\n",
       " (29, 3.48, 3.5, 60000, 4.0, 3.33, b'Y', 350, 100000),\n",
       " (30, 3.93, 4.0, 43000, 4.0, 3.28, b'Y', 900, 100000),\n",
       " (31, 3.43, 4.0, 60000, 3.5, 3.3, b'Y', 220, 110000),\n",
       " (32, 3.33, 5.0, 5000, 3.66, 3.0, b'Y', 183, 100000),\n",
       " (33, 3.6, 1.5, 60000, 3.7, 3.4, b'Y', 340, 100000),\n",
       " (34, 3.8, 3.0, 65000, 3.8, 3.5, b'Y', 800, 80000),\n",
       " (35, 3.5, 3.0, 65000, 4.0, 3.6, b'Y', 400, 80000),\n",
       " (36, 3.39, 2.0, 60000, 3.8, 3.2, b'Y', 500, 90000)], \n",
       "          dtype=[('no', '<i8'), ('gpa', '<f8'), ('years_of_work_experience', '<f8'), ('latest_salary_per_year', '<i8'), ('highest_gpa', '<f8'), ('lowest_gpa', '<f8'), ('coopsinternships_yn', 'S1'), ('number_of_contacts_on_linkedin', '<i8'), ('expected_salary_after_graduation', '<i8')])"
      ]
     },
     "execution_count": 166,
     "metadata": {},
     "output_type": "execute_result"
    }
   ],
   "source": [
    "classData"
   ]
  },
  {
   "cell_type": "code",
   "execution_count": 167,
   "metadata": {
    "collapsed": false
   },
   "outputs": [
    {
     "data": {
      "text/plain": [
       "3.0600000000000001"
      ]
     },
     "execution_count": 167,
     "metadata": {},
     "output_type": "execute_result"
    }
   ],
   "source": [
    "round(np.min(classData['gpa']),2)\n",
    "\n"
   ]
  },
  {
   "cell_type": "code",
   "execution_count": 168,
   "metadata": {
    "collapsed": false
   },
   "outputs": [
    {
     "data": {
      "text/plain": [
       "4.0"
      ]
     },
     "execution_count": 168,
     "metadata": {},
     "output_type": "execute_result"
    }
   ],
   "source": [
    "round(np.max(classData['gpa']),2)\n"
   ]
  },
  {
   "cell_type": "code",
   "execution_count": 169,
   "metadata": {
    "collapsed": false
   },
   "outputs": [
    {
     "data": {
      "text/plain": [
       "3.52"
      ]
     },
     "execution_count": 169,
     "metadata": {},
     "output_type": "execute_result"
    }
   ],
   "source": [
    "round(np.mean(classData['gpa']),2)\n"
   ]
  },
  {
   "cell_type": "code",
   "execution_count": 170,
   "metadata": {
    "collapsed": false
   },
   "outputs": [
    {
     "data": {
      "text/plain": [
       "3.5"
      ]
     },
     "execution_count": 170,
     "metadata": {},
     "output_type": "execute_result"
    }
   ],
   "source": [
    "round(np.median(classData['gpa']),2)"
   ]
  },
  {
   "cell_type": "code",
   "execution_count": 171,
   "metadata": {
    "collapsed": false
   },
   "outputs": [
    {
     "name": "stdout",
     "output_type": "stream",
     "text": [
      "[ 2.5  1.   2.   1.5  5.   2.5  2.   5.   2.5  4.   2.   1.8  2.   2.5  1.3\n",
      "  2.   4.   4.   1.   1.   2.   4.   3.   5.   4.   6.   1.   3.5  4.   4.\n",
      "  5.   1.5  3.   3.   2. ]\n",
      "1.0\n",
      "6.0\n",
      "2.87\n",
      "2.5\n"
     ]
    }
   ],
   "source": [
    "print(classData['years_of_work_experience'])\n",
    "print(round(np.min(classData['years_of_work_experience']),2))\n",
    "print(round(np.max(classData['years_of_work_experience']),2))\n",
    "print(round(np.mean(classData['years_of_work_experience']),2))\n",
    "print(round(np.median(classData['years_of_work_experience']),2))"
   ]
  },
  {
   "cell_type": "code",
   "execution_count": 172,
   "metadata": {
    "collapsed": false
   },
   "outputs": [
    {
     "data": {
      "text/plain": [
       "ModeResult(mode=array([60000]), count=array([8]))"
      ]
     },
     "execution_count": 172,
     "metadata": {},
     "output_type": "execute_result"
    }
   ],
   "source": [
    "stats.mode(classData['latest_salary_per_year'])"
   ]
  },
  {
   "cell_type": "code",
   "execution_count": 173,
   "metadata": {
    "collapsed": false
   },
   "outputs": [
    {
     "data": {
      "text/plain": [
       "array([b'N', b'Y', b'Y', b'N', b'Y', b'N', b'N', b'Y', b'Y', b'N', b'N',\n",
       "       b'N', b'y', b'Y', b'Y', b'Y', b'N', b'Y', b'N', b'Y', b'Y', b'Y',\n",
       "       b'Y', b'', b'Y', b'Y', b'N', b'Y', b'Y', b'Y', b'Y', b'Y', b'Y',\n",
       "       b'Y', b'Y'], \n",
       "      dtype='|S1')"
      ]
     },
     "execution_count": 173,
     "metadata": {},
     "output_type": "execute_result"
    }
   ],
   "source": [
    "\n",
    "x=classData['coopsinternships_yn']\n",
    "\n",
    "np.char.upper(x)\n",
    "x.astype('str')\n",
    "len(x)\n",
    "x\n"
   ]
  },
  {
   "cell_type": "code",
   "execution_count": 174,
   "metadata": {
    "collapsed": false
   },
   "outputs": [
    {
     "ename": "TypeError",
     "evalue": "a bytes-like object is required, not 'str'",
     "output_type": "error",
     "traceback": [
      "\u001b[0;31m---------------------------------------------------------------------------\u001b[0m",
      "\u001b[0;31mTypeError\u001b[0m                                 Traceback (most recent call last)",
      "\u001b[0;32m<ipython-input-174-1e4ca0fc1cf3>\u001b[0m in \u001b[0;36m<module>\u001b[0;34m()\u001b[0m\n\u001b[1;32m      2\u001b[0m \u001b[0mtotal\u001b[0m\u001b[0;34m=\u001b[0m\u001b[0mlen\u001b[0m\u001b[0;34m(\u001b[0m\u001b[0mx\u001b[0m\u001b[0;34m)\u001b[0m\u001b[0;34m\u001b[0m\u001b[0m\n\u001b[1;32m      3\u001b[0m \u001b[0;32mfor\u001b[0m \u001b[0mv\u001b[0m \u001b[0;32min\u001b[0m \u001b[0mx\u001b[0m\u001b[0;34m:\u001b[0m\u001b[0;34m\u001b[0m\u001b[0m\n\u001b[0;32m----> 4\u001b[0;31m     \u001b[0mprint\u001b[0m\u001b[0;34m(\u001b[0m\u001b[0mv\u001b[0m\u001b[0;34m.\u001b[0m\u001b[0mreplace\u001b[0m\u001b[0;34m(\u001b[0m\u001b[0;34m'b'\u001b[0m\u001b[0;34m,\u001b[0m\u001b[0;34m''\u001b[0m\u001b[0;34m)\u001b[0m\u001b[0;34m)\u001b[0m\u001b[0;34m\u001b[0m\u001b[0m\n\u001b[0m",
      "\u001b[0;31mTypeError\u001b[0m: a bytes-like object is required, not 'str'"
     ]
    }
   ],
   "source": [
    "count=0\n",
    "total=len(x)\n",
    "for v in x:\n",
    "    print(v.replace('b',''))\n"
   ]
  },
  {
   "cell_type": "code",
   "execution_count": null,
   "metadata": {
    "collapsed": false
   },
   "outputs": [],
   "source": [
    "percentcoop"
   ]
  },
  {
   "cell_type": "code",
   "execution_count": null,
   "metadata": {
    "collapsed": false
   },
   "outputs": [],
   "source": [
    "notoncoop"
   ]
  },
  {
   "cell_type": "code",
   "execution_count": null,
   "metadata": {
    "collapsed": false
   },
   "outputs": [],
   "source": [
    "y=classData['number_of_contacts_on_linkedin']\n",
    "y"
   ]
  },
  {
   "cell_type": "code",
   "execution_count": null,
   "metadata": {
    "collapsed": false
   },
   "outputs": [],
   "source": [
    "y>500"
   ]
  },
  {
   "cell_type": "code",
   "execution_count": null,
   "metadata": {
    "collapsed": false
   },
   "outputs": [],
   "source": [
    "len(y[y>500])"
   ]
  },
  {
   "cell_type": "code",
   "execution_count": null,
   "metadata": {
    "collapsed": false
   },
   "outputs": [],
   "source": [
    "a=classData['expected_salary_after_graduation']\n",
    "a"
   ]
  },
  {
   "cell_type": "code",
   "execution_count": null,
   "metadata": {
    "collapsed": false
   },
   "outputs": [],
   "source": [
    "print(np.percentile(a, 25))\n",
    "print(np.percentile(a, 50))\n",
    "print(np.percentile(a, 75))\n",
    "print(np.percentile(a, 100))\n"
   ]
  },
  {
   "cell_type": "code",
   "execution_count": null,
   "metadata": {
    "collapsed": false
   },
   "outputs": [],
   "source": [
    "Coop_Y = 0;\n",
    "Coop_N = 0;\n",
    "Total = 0;\n",
    "for f in (classData['coopsinternships_yn']):\n",
    "        Total  = Total + 1;\n",
    "        if (f == 'Y' or f == 'y'):\n",
    "            Coop_Y = Coop_Y + 1\n",
    "        elif(f  == 'N'):\n",
    "            Coop_N = Coop_N + 1 \n",
    "            \n",
    "print (Coop_Y/Total * 100)\n",
    "print (Coop_N/Total * 100)\n",
    "classData['coopsinternships_yn']\n"
   ]
  },
  {
   "cell_type": "code",
   "execution_count": null,
   "metadata": {
    "collapsed": false
   },
   "outputs": [],
   "source": [
    "dfclass = pd.read_csv('ClassData.csv')\n",
    "dfclass"
   ]
  },
  {
   "cell_type": "code",
   "execution_count": null,
   "metadata": {
    "collapsed": false
   },
   "outputs": [],
   "source": [
    "count=0\n",
    "count_N=0;\n",
    "total=0\n",
    "for v in (dfclass['Coops/Internships (YN)']):\n",
    "    total=total+1\n",
    "    if(v == 'Y' or v == 'y'):\n",
    "        count=count+1\n",
    "    elif(v == 'N'):\n",
    "        count_N=count_N+1;\n",
    "oncoop=print((count/total)*100)\n",
    "notoncoop=print((count_N/total)*100)"
   ]
  },
  {
   "cell_type": "code",
   "execution_count": 177,
   "metadata": {
    "collapsed": false
   },
   "outputs": [
    {
     "data": {
      "text/plain": [
       "10000.0"
      ]
     },
     "execution_count": 177,
     "metadata": {},
     "output_type": "execute_result"
    }
   ],
   "source": [
    "q3 = np.percentile(a,75)\n",
    "q1 = np.percentile(a,25)\n",
    "IQR = q3 - q1\n",
    "IQR"
   ]
  },
  {
   "cell_type": "code",
   "execution_count": null,
   "metadata": {
    "collapsed": true
   },
   "outputs": [],
   "source": []
  }
 ],
 "metadata": {
  "anaconda-cloud": {},
  "kernelspec": {
   "display_name": "Python 3",
   "language": "python",
   "name": "python3"
  },
  "language_info": {
   "codemirror_mode": {
    "name": "ipython",
    "version": 3
   },
   "file_extension": ".py",
   "mimetype": "text/x-python",
   "name": "python",
   "nbconvert_exporter": "python",
   "pygments_lexer": "ipython3",
   "version": "3.6.0"
  }
 },
 "nbformat": 4,
 "nbformat_minor": 1
}
