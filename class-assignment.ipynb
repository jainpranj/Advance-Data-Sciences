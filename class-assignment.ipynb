{
 "cells": [
  {
   "cell_type": "code",
   "execution_count": 122,
   "metadata": {
    "collapsed": true
   },
   "outputs": [],
   "source": [
    "import numpy as np\n",
    "import matplotlib.pyplot as pp\n",
    "import pandas as pd\n",
    "import seaborn\n",
    "from scipy import stats"
   ]
  },
  {
   "cell_type": "code",
   "execution_count": 115,
   "metadata": {
    "collapsed": false
   },
   "outputs": [
    {
     "name": "stdout",
     "output_type": "stream",
     "text": [
      "[['No', 'GPA', 'Years of work experience', 'Latest salary (per year)', 'Highest GPA ', 'Lowest GPA', 'Coops/Internships (YN)', 'Number of contacts on Linkedin', 'Expected Salary after graduation\\n'], ['1', '3.5', '2.5', '45000', '3.5', '3.5', 'N', '250', '90000\\n'], ['3', '3.8', '1', '65000', '3.6', '3', 'Y', '400', '100000\\n'], ['4', '3.8', '2', '85000', '4', '3.6', 'Y', '500', '90000\\n'], ['5', '3.41', '1.5', '10000', '3.41', '3.33', 'N', '365', '100000\\n'], ['6', '3.33', '5', '70000', '3.67', '3', 'Y', '400', '100000\\n'], ['7', '3.52', '2.5', '27000', '3.58', '3.52', 'N', '230', '85000\\n'], ['8', '3.5', '2', '40000', '3.7', '3.3', 'N', '250', '90000\\n'], ['9', '3.5', '5', '75000', '3.53', '3.3', 'Y', '260', '100000\\n'], ['10', '3.6', '2.5', '65000', '3.9', '3.1', 'Y', '250', '110000\\n'], ['11', '3.2', '4', '62000', '3.8', '3', 'N', '525', '105000\\n'], ['12', '3.5', '2', '60000', '3.5', '3.5', 'N', '400', '85000\\n'], ['13', '3.67', '1.8', '60000', '4', '3', 'N', '920', '140000\\n'], ['14', '3.5', '2', '60000', '3.7', '3.3', 'y', '300', '90000\\n'], ['15', '3.47', '2.5', '70000', '3.64', '3.37', 'Y', '310', '95000\\n'], ['16', '3.06', '1.3', '40000', '3.64', '2.67', 'Y', '550', '120000\\n'], ['17', '3.27', '2', '60000', '4', '3', 'Y', '350', '100000\\n'], ['18', '3.53', '4', '50000', '4', '3.3', 'N', '600', '88000\\n'], ['19', '4', '4', '50000', '4', '4', 'Y', '500', '130000\\n'], ['20', '3.4', '1', '30000', '3.6', '3.1', 'N', '500', '80000\\n'], ['21', '3.54', '1', '40000', '4', '3.42', 'Y', '650', '95000\\n'], ['22', '3.5', '2', '75000', '4', '3', 'Y', '515', '80000\\n'], ['23', '3.5', '4', '50000', '3.8', '3.2', 'Y', '350', '110000\\n'], ['24', '3.4', '3', '50000', '3.8', '3.2', 'Y', '301', '90000\\n'], ['25', '3.93', '5', '', '', '', '', '', '\\n'], ['26', '3.3', '4', '65000', '4', '3.65', 'Y', '700', '100000\\n'], ['27', '3.9', '6', '90000', '4', '3.8', 'Y', '809', '120000\\n'], ['28', '3.17', '1', '50000', '3.3', '3', 'N', '258', '100000\\n'], ['29', '3.48', '3.5', '60000', '4', '3.33', 'Y', '350', '100000\\n'], ['30', '3.93', '4', '43000', '4', '3.28', 'Y', '900', '100000\\n'], ['31', '3.43', '4', '60000', '3.5', '3.3', 'Y', '220', '110000\\n'], ['32', '3.33', '5', '5000', '3.66', '3', 'Y', '183', '100000\\n'], ['33', '3.6', '1.5', '60000', '3.7', '3.4', 'Y', '340', '100000\\n'], ['34', '3.8', '3', '65000', '3.8', '3.5', 'Y', '800', '80000\\n'], ['35', '3.5', '3', '65000', '4', '3.6', 'Y', '400', '80000\\n'], ['36', '3.39', '2', '60000', '3.8', '3.2', 'Y', '500', '90000']]\n"
     ]
    }
   ],
   "source": [
    "gpalist=[]\n",
    "for line in open('ClassData.csv','r'):\n",
    "   field= line.split(',')\n",
    "   gpalist.append(field)\n",
    "print(gpalist)"
   ]
  },
  {
   "cell_type": "code",
   "execution_count": 140,
   "metadata": {
    "collapsed": false
   },
   "outputs": [
    {
     "data": {
      "text/plain": [
       "['45000',\n",
       " '65000',\n",
       " '85000',\n",
       " '10000',\n",
       " '70000',\n",
       " '27000',\n",
       " '40000',\n",
       " '75000',\n",
       " '65000',\n",
       " '62000',\n",
       " '60000',\n",
       " '60000',\n",
       " '60000',\n",
       " '70000',\n",
       " '40000',\n",
       " '60000',\n",
       " '50000',\n",
       " '50000',\n",
       " '30000',\n",
       " '40000',\n",
       " '75000',\n",
       " '50000',\n",
       " '50000',\n",
       " '',\n",
       " '65000',\n",
       " '90000',\n",
       " '50000',\n",
       " '60000',\n",
       " '43000',\n",
       " '60000',\n",
       " '5000',\n",
       " '60000',\n",
       " '65000',\n",
       " '65000',\n",
       " '60000']"
      ]
     },
     "execution_count": 140,
     "metadata": {},
     "output_type": "execute_result"
    }
   ],
   "source": [
    "gpalist=[]\n",
    "yearofexp=[]\n",
    "salary=[]\n",
    "with open('ClassData.csv','r') as f:\n",
    "    lines = f.readlines()[1:]\n",
    "    for line in lines:\n",
    "        field= line.split(',')\n",
    "        gpalist.append(field[1])\n",
    "        yearofexp.append(field[2])\n",
    "        salary.append(field[3])\n",
    "salary     \n",
    "#Salary=np.asarray(salary,dtype=np.float_)"
   ]
  },
  {
   "cell_type": "code",
   "execution_count": null,
   "metadata": {
    "collapsed": false
   },
   "outputs": [],
   "source": [
    "GPA= np.asarray(gpalist,dtype=np.float_)\n",
    "WorkExp=np.asarray(yearofexp,dtype=np.float_)\n",
    "WorkExp\n",
    "\n",
    "\n",
    "print(round(np.min(GPA),2))\n",
    "print(round(np.max(GPA),2))\n",
    "print(round(np.mean(GPA),2))\n",
    "print(round(np.median(GPA),2))\n",
    "print(round(np.min(WorkExp),2))\n",
    "print(round(np.max(WorkExp),2))\n",
    "print(round(np.mean(WorkExp),2))\n",
    "print(round(np.median(WorkExp),2))"
   ]
  },
  {
   "cell_type": "code",
   "execution_count": null,
   "metadata": {
    "collapsed": false
   },
   "outputs": [],
   "source": [
    "classData=np.genfromtxt('ClassData.csv',delimiter=',',dtype=None)"
   ]
  },
  {
   "cell_type": "code",
   "execution_count": null,
   "metadata": {
    "collapsed": false
   },
   "outputs": [],
   "source": [
    "classData"
   ]
  },
  {
   "cell_type": "code",
   "execution_count": null,
   "metadata": {
    "collapsed": false
   },
   "outputs": [],
   "source": [
    "classData=np.recfromcsv('ClassData.csv',dtype=None)"
   ]
  },
  {
   "cell_type": "code",
   "execution_count": null,
   "metadata": {
    "collapsed": false
   },
   "outputs": [],
   "source": [
    "classData"
   ]
  },
  {
   "cell_type": "code",
   "execution_count": null,
   "metadata": {
    "collapsed": false
   },
   "outputs": [],
   "source": [
    "round(np.min(classData['gpa']),2)\n",
    "\n"
   ]
  },
  {
   "cell_type": "code",
   "execution_count": null,
   "metadata": {
    "collapsed": false
   },
   "outputs": [],
   "source": [
    "round(np.max(classData['gpa']),2)\n"
   ]
  },
  {
   "cell_type": "code",
   "execution_count": null,
   "metadata": {
    "collapsed": false
   },
   "outputs": [],
   "source": [
    "round(np.mean(classData['gpa']),2)\n"
   ]
  },
  {
   "cell_type": "code",
   "execution_count": null,
   "metadata": {
    "collapsed": false
   },
   "outputs": [],
   "source": [
    "round(np.median(classData['gpa']),2)"
   ]
  },
  {
   "cell_type": "code",
   "execution_count": null,
   "metadata": {
    "collapsed": false
   },
   "outputs": [],
   "source": [
    "print(classData['years_of_work_experience'])\n",
    "print(round(np.min(classData['years_of_work_experience']),2))\n",
    "print(round(np.max(classData['years_of_work_experience']),2))\n",
    "print(round(np.mean(classData['years_of_work_experience']),2))\n",
    "print(round(np.median(classData['years_of_work_experience']),2))"
   ]
  },
  {
   "cell_type": "code",
   "execution_count": null,
   "metadata": {
    "collapsed": false
   },
   "outputs": [],
   "source": [
    "stats.mode(classData['latest_salary_per_year'])"
   ]
  },
  {
   "cell_type": "code",
   "execution_count": null,
   "metadata": {
    "collapsed": false
   },
   "outputs": [],
   "source": [
    "\n",
    "x=classData['coopsinternships_yn']\n",
    "\n",
    "np.char.upper(x)\n",
    "x.astype('str')\n",
    "len(x)\n",
    "x\n"
   ]
  },
  {
   "cell_type": "code",
   "execution_count": null,
   "metadata": {
    "collapsed": false
   },
   "outputs": [],
   "source": [
    "count=0\n",
    "total=len(x)\n",
    "for v in x:\n",
    "    print(v.replace('b',''))\n"
   ]
  },
  {
   "cell_type": "code",
   "execution_count": null,
   "metadata": {
    "collapsed": false
   },
   "outputs": [],
   "source": [
    "percentcoop"
   ]
  },
  {
   "cell_type": "code",
   "execution_count": null,
   "metadata": {
    "collapsed": false
   },
   "outputs": [],
   "source": [
    "notoncoop"
   ]
  },
  {
   "cell_type": "code",
   "execution_count": null,
   "metadata": {
    "collapsed": false
   },
   "outputs": [],
   "source": [
    "y=classData['number_of_contacts_on_linkedin']\n",
    "y"
   ]
  },
  {
   "cell_type": "code",
   "execution_count": null,
   "metadata": {
    "collapsed": false
   },
   "outputs": [],
   "source": [
    "y>500"
   ]
  },
  {
   "cell_type": "code",
   "execution_count": null,
   "metadata": {
    "collapsed": false
   },
   "outputs": [],
   "source": [
    "len(y[y>500])"
   ]
  },
  {
   "cell_type": "code",
   "execution_count": null,
   "metadata": {
    "collapsed": false
   },
   "outputs": [],
   "source": [
    "a=classData['expected_salary_after_graduation']\n",
    "a"
   ]
  },
  {
   "cell_type": "code",
   "execution_count": null,
   "metadata": {
    "collapsed": false
   },
   "outputs": [],
   "source": [
    "print(np.percentile(a, 25))\n",
    "print(np.percentile(a, 50))\n",
    "print(np.percentile(a, 75))\n",
    "print(np.percentile(a, 100))"
   ]
  },
  {
   "cell_type": "code",
   "execution_count": 117,
   "metadata": {
    "collapsed": false
   },
   "outputs": [
    {
     "name": "stdout",
     "output_type": "stream",
     "text": [
      "0.0\n",
      "0.0\n"
     ]
    },
    {
     "data": {
      "text/plain": [
       "array([b'N', b'Y', b'Y', b'N', b'Y', b'N', b'N', b'Y', b'Y', b'N', b'N',\n",
       "       b'N', b'y', b'Y', b'Y', b'Y', b'N', b'Y', b'N', b'Y', b'Y', b'Y',\n",
       "       b'Y', b'', b'Y', b'Y', b'N', b'Y', b'Y', b'Y', b'Y', b'Y', b'Y',\n",
       "       b'Y', b'Y'], \n",
       "      dtype='|S1')"
      ]
     },
     "execution_count": 117,
     "metadata": {},
     "output_type": "execute_result"
    }
   ],
   "source": [
    "Coop_Y = 0;\n",
    "Coop_N = 0;\n",
    "Total = 0;\n",
    "for f in (classData['coopsinternships_yn']):\n",
    "        Total  = Total + 1;\n",
    "        if (f == 'Y' or f == 'y'):\n",
    "            Coop_Y = Coop_Y + 1\n",
    "        elif(f  == 'N'):\n",
    "            Coop_N = Coop_N + 1 \n",
    "            \n",
    "print (Coop_Y/Total * 100)\n",
    "print (Coop_N/Total * 100)\n",
    "classData['coopsinternships_yn']\n"
   ]
  },
  {
   "cell_type": "code",
   "execution_count": 124,
   "metadata": {
    "collapsed": false
   },
   "outputs": [],
   "source": [
    "dfclass = pd.read_csv('ClassData.csv', header=None)"
   ]
  },
  {
   "cell_type": "code",
   "execution_count": 139,
   "metadata": {
    "collapsed": false
   },
   "outputs": [
    {
     "name": "stdout",
     "output_type": "stream",
     "text": [
      "66.66666666666666\n",
      "27.77777777777778\n"
     ]
    }
   ],
   "source": [
    "count=0\n",
    "count_N=0;\n",
    "total=0\n",
    "for v in dfclass[6]:\n",
    "    total=total+1\n",
    "    if(v=='Y' or v=='y'):\n",
    "        \n",
    "        count=count+1\n",
    "    elif(v=='N'):\n",
    "        count_N=count_N+1;\n",
    "oncoop=print((count/total)*100)\n",
    "notoncoop=print((count_N/total)*100)"
   ]
  },
  {
   "cell_type": "code",
   "execution_count": null,
   "metadata": {
    "collapsed": true
   },
   "outputs": [],
   "source": []
  }
 ],
 "metadata": {
  "anaconda-cloud": {},
  "kernelspec": {
   "display_name": "Python 3",
   "language": "python",
   "name": "python3"
  },
  "language_info": {
   "codemirror_mode": {
    "name": "ipython",
    "version": 3
   },
   "file_extension": ".py",
   "mimetype": "text/x-python",
   "name": "python",
   "nbconvert_exporter": "python",
   "pygments_lexer": "ipython3",
   "version": "3.6.0"
  }
 },
 "nbformat": 4,
 "nbformat_minor": 1
}
